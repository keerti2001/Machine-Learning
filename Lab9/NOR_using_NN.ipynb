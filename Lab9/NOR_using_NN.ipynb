{
 "cells": [
  {
   "cell_type": "markdown",
   "metadata": {
    "id": "4WI3e0SgWz4l"
   },
   "source": [
    "<h1 align='center'> CS353 Machine Learning Lab</h1>\n",
    "<h2 align='center'>Keerti Chaudhary (181CO226)</h2>"
   ]
  },
  {
   "cell_type": "markdown",
   "metadata": {
    "id": "vo-6LV9CY1Kv"
   },
   "source": [
    "# NOR gate using Neural Network"
   ]
  },
  {
   "cell_type": "markdown",
   "metadata": {
    "id": "HXbFnfp9W5DY"
   },
   "source": [
    "# Loading Libraries"
   ]
  },
  {
   "cell_type": "code",
   "execution_count": null,
   "metadata": {
    "id": "JXaxWtrWTusK"
   },
   "outputs": [],
   "source": [
    "import keras\n",
    "from keras import models\n",
    "from keras import layers\n",
    "from keras import losses \n",
    "from keras import optimizers \n",
    "from keras import metrics \n",
    "import numpy as np\n",
    "import pandas as pd"
   ]
  },
  {
   "cell_type": "markdown",
   "metadata": {
    "id": "J5At57EYW-iI"
   },
   "source": [
    "# Creating Dataset"
   ]
  },
  {
   "cell_type": "code",
   "execution_count": null,
   "metadata": {
    "id": "r7ih5jq_T4C7"
   },
   "outputs": [],
   "source": [
    "X = np.random.randint(0, 2, (10000, 2))\n",
    "y=  (X[:,0] +  X[:,1])\n"
   ]
  },
  {
   "cell_type": "code",
   "execution_count": null,
   "metadata": {
    "id": "JtgjEyE14zLA"
   },
   "outputs": [],
   "source": [
    "for i in range(len(y)):\n",
    "  if y[i]==0:\n",
    "    y[i]=1\n",
    "  else:\n",
    "    y[i]=0"
   ]
  },
  {
   "cell_type": "code",
   "execution_count": null,
   "metadata": {
    "colab": {
     "base_uri": "https://localhost:8080/"
    },
    "id": "srKofMzk10ob",
    "outputId": "9d90fd76-ce86-4d9b-afcf-d5fb6f63c0bd"
   },
   "outputs": [
    {
     "data": {
      "text/plain": [
       "array([[0, 0],\n",
       "       [1, 0],\n",
       "       [1, 1],\n",
       "       ...,\n",
       "       [1, 0],\n",
       "       [0, 1],\n",
       "       [1, 0]])"
      ]
     },
     "execution_count": 4,
     "metadata": {
      "tags": []
     },
     "output_type": "execute_result"
    }
   ],
   "source": [
    "X"
   ]
  },
  {
   "cell_type": "code",
   "execution_count": null,
   "metadata": {
    "colab": {
     "base_uri": "https://localhost:8080/"
    },
    "id": "AbMrGqh45B4X",
    "outputId": "98279b3f-43fe-4ee8-cb0c-44594dd4b0db"
   },
   "outputs": [
    {
     "data": {
      "text/plain": [
       "array([1, 0, 0, ..., 0, 0, 0])"
      ]
     },
     "execution_count": 5,
     "metadata": {
      "tags": []
     },
     "output_type": "execute_result"
    }
   ],
   "source": [
    "y"
   ]
  },
  {
   "cell_type": "code",
   "execution_count": null,
   "metadata": {
    "colab": {
     "base_uri": "https://localhost:8080/"
    },
    "id": "SqUrCP8dUGJ-",
    "outputId": "5bd67cc6-4dc7-45a1-f0d5-ad0d79db506f"
   },
   "outputs": [
    {
     "name": "stdout",
     "output_type": "stream",
     "text": [
      "                  0             1\n",
      "count  10000.000000  10000.000000\n",
      "mean       0.496300      0.498800\n",
      "std        0.500011      0.500024\n",
      "min        0.000000      0.000000\n",
      "25%        0.000000      0.000000\n",
      "50%        0.000000      0.000000\n",
      "75%        1.000000      1.000000\n",
      "max        1.000000      1.000000\n",
      "<class 'pandas.core.frame.DataFrame'>\n",
      "RangeIndex: 10000 entries, 0 to 9999\n",
      "Data columns (total 2 columns):\n",
      " #   Column  Non-Null Count  Dtype\n",
      "---  ------  --------------  -----\n",
      " 0   0       10000 non-null  int64\n",
      " 1   1       10000 non-null  int64\n",
      "dtypes: int64(2)\n",
      "memory usage: 156.4 KB\n",
      "None\n"
     ]
    }
   ],
   "source": [
    "print(pd.DataFrame(X).describe())\n",
    "print(pd.DataFrame(X).info())"
   ]
  },
  {
   "cell_type": "code",
   "execution_count": null,
   "metadata": {
    "colab": {
     "base_uri": "https://localhost:8080/"
    },
    "id": "cfINiz9AUc5N",
    "outputId": "08fb8e29-419c-4f45-8b29-cdd0f760ba21"
   },
   "outputs": [
    {
     "name": "stdout",
     "output_type": "stream",
     "text": [
      "                  0\n",
      "count  10000.000000\n",
      "mean       0.254100\n",
      "std        0.435376\n",
      "min        0.000000\n",
      "25%        0.000000\n",
      "50%        0.000000\n",
      "75%        1.000000\n",
      "max        1.000000\n",
      "<class 'pandas.core.frame.DataFrame'>\n",
      "RangeIndex: 10000 entries, 0 to 9999\n",
      "Data columns (total 1 columns):\n",
      " #   Column  Non-Null Count  Dtype\n",
      "---  ------  --------------  -----\n",
      " 0   0       10000 non-null  int64\n",
      "dtypes: int64(1)\n",
      "memory usage: 78.2 KB\n",
      "None\n"
     ]
    }
   ],
   "source": [
    "print(pd.DataFrame(y).describe())\n",
    "print(pd.DataFrame(y).info())"
   ]
  },
  {
   "cell_type": "markdown",
   "metadata": {
    "id": "YpNPP-78XDQh"
   },
   "source": [
    "# Splitting Dataset into Training and Testing"
   ]
  },
  {
   "cell_type": "code",
   "execution_count": null,
   "metadata": {
    "id": "uVTYpCeMVyE_"
   },
   "outputs": [],
   "source": [
    "from sklearn.model_selection import train_test_split\n",
    "X_train,X_test,y_train,y_test=train_test_split(X,y, test_size = 0.25, random_state = 0)"
   ]
  },
  {
   "cell_type": "markdown",
   "metadata": {
    "id": "iqEv_xLQXIoY"
   },
   "source": [
    "# Neural Network Model"
   ]
  },
  {
   "cell_type": "code",
   "execution_count": null,
   "metadata": {
    "id": "uF4JVkjFUf2w"
   },
   "outputs": [],
   "source": [
    "model = models.Sequential()\n",
    "model.add(layers.Dense(1, input_shape=(2,), activation='sigmoid'))\n",
    "model.compile(loss='mean_squared_error', optimizer='adam', metrics=[metrics.categorical_accuracy])"
   ]
  },
  {
   "cell_type": "markdown",
   "metadata": {
    "id": "29RjWpfzXNPR"
   },
   "source": [
    "# Training"
   ]
  },
  {
   "cell_type": "code",
   "execution_count": null,
   "metadata": {
    "colab": {
     "base_uri": "https://localhost:8080/"
    },
    "id": "fsjLKasQUkxN",
    "outputId": "5af19e16-dd6a-4ad1-bc8a-ff9e55e344f0"
   },
   "outputs": [
    {
     "name": "stdout",
     "output_type": "stream",
     "text": [
      "Epoch 1/32\n",
      "60/60 [==============================] - 1s 9ms/step - loss: 0.1861 - categorical_accuracy: 1.0000 - val_loss: 0.1754 - val_categorical_accuracy: 1.0000\n",
      "Epoch 2/32\n",
      "60/60 [==============================] - 0s 2ms/step - loss: 0.1721 - categorical_accuracy: 1.0000 - val_loss: 0.1636 - val_categorical_accuracy: 1.0000\n",
      "Epoch 3/32\n",
      "60/60 [==============================] - 0s 2ms/step - loss: 0.1624 - categorical_accuracy: 1.0000 - val_loss: 0.1542 - val_categorical_accuracy: 1.0000\n",
      "Epoch 4/32\n",
      "60/60 [==============================] - 0s 2ms/step - loss: 0.1538 - categorical_accuracy: 1.0000 - val_loss: 0.1468 - val_categorical_accuracy: 1.0000\n",
      "Epoch 5/32\n",
      "60/60 [==============================] - 0s 2ms/step - loss: 0.1445 - categorical_accuracy: 1.0000 - val_loss: 0.1409 - val_categorical_accuracy: 1.0000\n",
      "Epoch 6/32\n",
      "60/60 [==============================] - 0s 2ms/step - loss: 0.1408 - categorical_accuracy: 1.0000 - val_loss: 0.1360 - val_categorical_accuracy: 1.0000\n",
      "Epoch 7/32\n",
      "60/60 [==============================] - 0s 2ms/step - loss: 0.1362 - categorical_accuracy: 1.0000 - val_loss: 0.1319 - val_categorical_accuracy: 1.0000\n",
      "Epoch 8/32\n",
      "60/60 [==============================] - 0s 2ms/step - loss: 0.1329 - categorical_accuracy: 1.0000 - val_loss: 0.1283 - val_categorical_accuracy: 1.0000\n",
      "Epoch 9/32\n",
      "60/60 [==============================] - 0s 2ms/step - loss: 0.1260 - categorical_accuracy: 1.0000 - val_loss: 0.1250 - val_categorical_accuracy: 1.0000\n",
      "Epoch 10/32\n",
      "60/60 [==============================] - 0s 2ms/step - loss: 0.1260 - categorical_accuracy: 1.0000 - val_loss: 0.1220 - val_categorical_accuracy: 1.0000\n",
      "Epoch 11/32\n",
      "60/60 [==============================] - 0s 2ms/step - loss: 0.1199 - categorical_accuracy: 1.0000 - val_loss: 0.1190 - val_categorical_accuracy: 1.0000\n",
      "Epoch 12/32\n",
      "60/60 [==============================] - 0s 2ms/step - loss: 0.1202 - categorical_accuracy: 1.0000 - val_loss: 0.1162 - val_categorical_accuracy: 1.0000\n",
      "Epoch 13/32\n",
      "60/60 [==============================] - 0s 2ms/step - loss: 0.1149 - categorical_accuracy: 1.0000 - val_loss: 0.1135 - val_categorical_accuracy: 1.0000\n",
      "Epoch 14/32\n",
      "60/60 [==============================] - 0s 2ms/step - loss: 0.1135 - categorical_accuracy: 1.0000 - val_loss: 0.1108 - val_categorical_accuracy: 1.0000\n",
      "Epoch 15/32\n",
      "60/60 [==============================] - 0s 2ms/step - loss: 0.1105 - categorical_accuracy: 1.0000 - val_loss: 0.1081 - val_categorical_accuracy: 1.0000\n",
      "Epoch 16/32\n",
      "60/60 [==============================] - 0s 2ms/step - loss: 0.1097 - categorical_accuracy: 1.0000 - val_loss: 0.1055 - val_categorical_accuracy: 1.0000\n",
      "Epoch 17/32\n",
      "60/60 [==============================] - 0s 2ms/step - loss: 0.1056 - categorical_accuracy: 1.0000 - val_loss: 0.1029 - val_categorical_accuracy: 1.0000\n",
      "Epoch 18/32\n",
      "60/60 [==============================] - 0s 2ms/step - loss: 0.1014 - categorical_accuracy: 1.0000 - val_loss: 0.1003 - val_categorical_accuracy: 1.0000\n",
      "Epoch 19/32\n",
      "60/60 [==============================] - 0s 2ms/step - loss: 0.1001 - categorical_accuracy: 1.0000 - val_loss: 0.0977 - val_categorical_accuracy: 1.0000\n",
      "Epoch 20/32\n",
      "60/60 [==============================] - 0s 2ms/step - loss: 0.0989 - categorical_accuracy: 1.0000 - val_loss: 0.0952 - val_categorical_accuracy: 1.0000\n",
      "Epoch 21/32\n",
      "60/60 [==============================] - 0s 2ms/step - loss: 0.0952 - categorical_accuracy: 1.0000 - val_loss: 0.0928 - val_categorical_accuracy: 1.0000\n",
      "Epoch 22/32\n",
      "60/60 [==============================] - 0s 2ms/step - loss: 0.0924 - categorical_accuracy: 1.0000 - val_loss: 0.0904 - val_categorical_accuracy: 1.0000\n",
      "Epoch 23/32\n",
      "60/60 [==============================] - 0s 2ms/step - loss: 0.0919 - categorical_accuracy: 1.0000 - val_loss: 0.0880 - val_categorical_accuracy: 1.0000\n",
      "Epoch 24/32\n",
      "60/60 [==============================] - 0s 2ms/step - loss: 0.0878 - categorical_accuracy: 1.0000 - val_loss: 0.0857 - val_categorical_accuracy: 1.0000\n",
      "Epoch 25/32\n",
      "60/60 [==============================] - 0s 2ms/step - loss: 0.0853 - categorical_accuracy: 1.0000 - val_loss: 0.0834 - val_categorical_accuracy: 1.0000\n",
      "Epoch 26/32\n",
      "60/60 [==============================] - 0s 2ms/step - loss: 0.0832 - categorical_accuracy: 1.0000 - val_loss: 0.0812 - val_categorical_accuracy: 1.0000\n",
      "Epoch 27/32\n",
      "60/60 [==============================] - 0s 2ms/step - loss: 0.0814 - categorical_accuracy: 1.0000 - val_loss: 0.0790 - val_categorical_accuracy: 1.0000\n",
      "Epoch 28/32\n",
      "60/60 [==============================] - 0s 2ms/step - loss: 0.0784 - categorical_accuracy: 1.0000 - val_loss: 0.0768 - val_categorical_accuracy: 1.0000\n",
      "Epoch 29/32\n",
      "60/60 [==============================] - 0s 2ms/step - loss: 0.0769 - categorical_accuracy: 1.0000 - val_loss: 0.0748 - val_categorical_accuracy: 1.0000\n",
      "Epoch 30/32\n",
      "60/60 [==============================] - 0s 2ms/step - loss: 0.0748 - categorical_accuracy: 1.0000 - val_loss: 0.0727 - val_categorical_accuracy: 1.0000\n",
      "Epoch 31/32\n",
      "60/60 [==============================] - 0s 2ms/step - loss: 0.0736 - categorical_accuracy: 1.0000 - val_loss: 0.0707 - val_categorical_accuracy: 1.0000\n",
      "Epoch 32/32\n",
      "60/60 [==============================] - 0s 2ms/step - loss: 0.0701 - categorical_accuracy: 1.0000 - val_loss: 0.0688 - val_categorical_accuracy: 1.0000\n"
     ]
    }
   ],
   "source": [
    "result=history = model.fit(X_train, y_train, validation_split=(0.2), batch_size=100, epochs=32, verbose=1)"
   ]
  },
  {
   "cell_type": "markdown",
   "metadata": {
    "id": "iO33pUZUXPvy"
   },
   "source": [
    "# Evaluation"
   ]
  },
  {
   "cell_type": "code",
   "execution_count": null,
   "metadata": {
    "colab": {
     "base_uri": "https://localhost:8080/"
    },
    "id": "2chLP2-xWM_p",
    "outputId": "6a072fb5-e984-46b0-e52c-4ce98a728c98"
   },
   "outputs": [
    {
     "name": "stdout",
     "output_type": "stream",
     "text": [
      "79/79 [==============================] - 0s 1ms/step - loss: 0.0682 - categorical_accuracy: 1.0000\n"
     ]
    }
   ],
   "source": [
    "final=model.evaluate(X_test,y_test)"
   ]
  },
  {
   "cell_type": "code",
   "execution_count": null,
   "metadata": {
    "colab": {
     "base_uri": "https://localhost:8080/"
    },
    "id": "lrxBG0ETWjJq",
    "outputId": "21a22768-1715-40ed-fe46-98a847a98eee"
   },
   "outputs": [
    {
     "data": {
      "text/plain": [
       "array([[1.]], dtype=float32)"
      ]
     },
     "execution_count": 12,
     "metadata": {
      "tags": []
     },
     "output_type": "execute_result"
    }
   ],
   "source": [
    "model.predict([[0,0]]).round()"
   ]
  },
  {
   "cell_type": "code",
   "execution_count": null,
   "metadata": {
    "colab": {
     "base_uri": "https://localhost:8080/"
    },
    "id": "IXleyYeLWsJI",
    "outputId": "8a439811-4554-4d90-9eed-edb33145404f"
   },
   "outputs": [
    {
     "data": {
      "text/plain": [
       "array([[0.]], dtype=float32)"
      ]
     },
     "execution_count": 13,
     "metadata": {
      "tags": []
     },
     "output_type": "execute_result"
    }
   ],
   "source": [
    "model.predict([[0,1]]).round()"
   ]
  },
  {
   "cell_type": "code",
   "execution_count": null,
   "metadata": {
    "colab": {
     "base_uri": "https://localhost:8080/"
    },
    "id": "Xw82KUNeWt_s",
    "outputId": "7dd161b7-6717-4c68-f476-7f1019b899fd"
   },
   "outputs": [
    {
     "data": {
      "text/plain": [
       "array([[0.]], dtype=float32)"
      ]
     },
     "execution_count": 14,
     "metadata": {
      "tags": []
     },
     "output_type": "execute_result"
    }
   ],
   "source": [
    "model.predict([[1,0]]).round()"
   ]
  },
  {
   "cell_type": "code",
   "execution_count": null,
   "metadata": {
    "colab": {
     "base_uri": "https://localhost:8080/"
    },
    "id": "fcAk_jaoWwCb",
    "outputId": "1b45704c-6174-4b48-ea77-c8c4597c3129"
   },
   "outputs": [
    {
     "data": {
      "text/plain": [
       "array([[0.]], dtype=float32)"
      ]
     },
     "execution_count": 15,
     "metadata": {
      "tags": []
     },
     "output_type": "execute_result"
    }
   ],
   "source": [
    "model.predict([[1,1]]).round()"
   ]
  },
  {
   "cell_type": "markdown",
   "metadata": {
    "id": "yEppVHWTYyDu"
   },
   "source": [
    "# Results"
   ]
  },
  {
   "cell_type": "code",
   "execution_count": null,
   "metadata": {
    "colab": {
     "base_uri": "https://localhost:8080/"
    },
    "id": "ac2WJooWX0gO",
    "outputId": "1805e3fd-f453-46d3-9fe6-84e6a3a85928"
   },
   "outputs": [
    {
     "name": "stdout",
     "output_type": "stream",
     "text": [
      "[[1.]\n",
      " [1.]\n",
      " [0.]\n",
      " ...\n",
      " [0.]\n",
      " [1.]\n",
      " [1.]]\n"
     ]
    }
   ],
   "source": [
    "y_pred=model.predict(X_test).round()\n",
    "print(y_pred)"
   ]
  },
  {
   "cell_type": "code",
   "execution_count": null,
   "metadata": {
    "colab": {
     "base_uri": "https://localhost:8080/"
    },
    "id": "yN17l3bbX-yp",
    "outputId": "cd7e8bb2-bdd2-4c32-b152-6c8aea764dac"
   },
   "outputs": [
    {
     "name": "stdout",
     "output_type": "stream",
     "text": [
      "Accuracy: 1.000000\n",
      "Precision: 1.000000\n",
      "Recall: 1.000000\n",
      "F1 score: 1.000000\n"
     ]
    }
   ],
   "source": [
    "from sklearn.metrics import accuracy_score,precision_score,recall_score,f1_score\n",
    "# accuracy: (tp + tn) / (p + n)\n",
    "accuracy = accuracy_score(y_test, y_pred)\n",
    "print('Accuracy: %f' % accuracy)\n",
    "# precision tp / (tp + fp)\n",
    "precision = precision_score(y_test, y_pred)\n",
    "print('Precision: %f' % precision)\n",
    "# recall: tp / (tp + fn)\n",
    "recall = recall_score(y_test, y_pred)\n",
    "print('Recall: %f' % recall)\n",
    "# f1: 2 tp / (2 tp + fp + fn)\n",
    "f1 = f1_score(y_test, y_pred)\n",
    "print('F1 score: %f' % f1)"
   ]
  }
 ],
 "metadata": {
  "colab": {
   "collapsed_sections": [],
   "name": "NOR_using_NN.ipynb",
   "provenance": []
  },
  "kernelspec": {
   "display_name": "Python 3",
   "language": "python",
   "name": "python3"
  },
  "language_info": {
   "codemirror_mode": {
    "name": "ipython",
    "version": 3
   },
   "file_extension": ".py",
   "mimetype": "text/x-python",
   "name": "python",
   "nbconvert_exporter": "python",
   "pygments_lexer": "ipython3",
   "version": "3.7.4"
  }
 },
 "nbformat": 4,
 "nbformat_minor": 1
}
