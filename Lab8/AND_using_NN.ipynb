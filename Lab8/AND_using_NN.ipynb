{
 "cells": [
  {
   "cell_type": "markdown",
   "metadata": {
    "id": "4WI3e0SgWz4l"
   },
   "source": [
    "<h1 align='center'> CS353 Machine Learning Lab</h1>\n",
    "<h2 align='center'>Keerti Chaudhary (181CO226)</h2>"
   ]
  },
  {
   "cell_type": "markdown",
   "metadata": {
    "id": "vo-6LV9CY1Kv"
   },
   "source": [
    "# AND gate using Neural Network"
   ]
  },
  {
   "cell_type": "markdown",
   "metadata": {
    "id": "HXbFnfp9W5DY"
   },
   "source": [
    "# Loading Libraries"
   ]
  },
  {
   "cell_type": "code",
   "execution_count": 1,
   "metadata": {
    "id": "JXaxWtrWTusK"
   },
   "outputs": [],
   "source": [
    "import keras\n",
    "from keras import models\n",
    "from keras import layers\n",
    "from keras import losses \n",
    "from keras import optimizers \n",
    "from keras import metrics \n",
    "import numpy as np\n",
    "import pandas as pd"
   ]
  },
  {
   "cell_type": "markdown",
   "metadata": {
    "id": "J5At57EYW-iI"
   },
   "source": [
    "# Creating Dataset"
   ]
  },
  {
   "cell_type": "code",
   "execution_count": 2,
   "metadata": {
    "id": "r7ih5jq_T4C7"
   },
   "outputs": [],
   "source": [
    "X = np.random.randint(0, 2, (10000, 2))\n",
    "y = X[:,0]*X[:,1]"
   ]
  },
  {
   "cell_type": "code",
   "execution_count": 5,
   "metadata": {
    "colab": {
     "base_uri": "https://localhost:8080/"
    },
    "id": "SqUrCP8dUGJ-",
    "outputId": "d883f2a9-15a6-48e5-c4b3-29ee0c079f60"
   },
   "outputs": [
    {
     "name": "stdout",
     "output_type": "stream",
     "text": [
      "                  0             1\n",
      "count  10000.000000  10000.000000\n",
      "mean       0.495400      0.496900\n",
      "std        0.500004      0.500015\n",
      "min        0.000000      0.000000\n",
      "25%        0.000000      0.000000\n",
      "50%        0.000000      0.000000\n",
      "75%        1.000000      1.000000\n",
      "max        1.000000      1.000000\n",
      "<class 'pandas.core.frame.DataFrame'>\n",
      "RangeIndex: 10000 entries, 0 to 9999\n",
      "Data columns (total 2 columns):\n",
      " #   Column  Non-Null Count  Dtype\n",
      "---  ------  --------------  -----\n",
      " 0   0       10000 non-null  int64\n",
      " 1   1       10000 non-null  int64\n",
      "dtypes: int64(2)\n",
      "memory usage: 156.4 KB\n",
      "None\n"
     ]
    }
   ],
   "source": [
    "print(pd.DataFrame(X).describe())\n",
    "print(pd.DataFrame(X).info())"
   ]
  },
  {
   "cell_type": "code",
   "execution_count": 6,
   "metadata": {
    "colab": {
     "base_uri": "https://localhost:8080/"
    },
    "id": "cfINiz9AUc5N",
    "outputId": "020bc143-d3b5-4138-a6ee-67d20ac07b42"
   },
   "outputs": [
    {
     "name": "stdout",
     "output_type": "stream",
     "text": [
      "                0\n",
      "count  10000.0000\n",
      "mean       0.2460\n",
      "std        0.4307\n",
      "min        0.0000\n",
      "25%        0.0000\n",
      "50%        0.0000\n",
      "75%        0.0000\n",
      "max        1.0000\n",
      "<class 'pandas.core.frame.DataFrame'>\n",
      "RangeIndex: 10000 entries, 0 to 9999\n",
      "Data columns (total 1 columns):\n",
      " #   Column  Non-Null Count  Dtype\n",
      "---  ------  --------------  -----\n",
      " 0   0       10000 non-null  int64\n",
      "dtypes: int64(1)\n",
      "memory usage: 78.2 KB\n",
      "None\n"
     ]
    }
   ],
   "source": [
    "print(pd.DataFrame(y).describe())\n",
    "print(pd.DataFrame(y).info())"
   ]
  },
  {
   "cell_type": "markdown",
   "metadata": {
    "id": "YpNPP-78XDQh"
   },
   "source": [
    "# Splitting Dataset into Training and Testing"
   ]
  },
  {
   "cell_type": "code",
   "execution_count": 15,
   "metadata": {
    "id": "uVTYpCeMVyE_"
   },
   "outputs": [],
   "source": [
    "from sklearn.model_selection import train_test_split\n",
    "X_train,X_test,y_train,y_test=train_test_split(X,y, test_size = 0.25, random_state = 0)"
   ]
  },
  {
   "cell_type": "markdown",
   "metadata": {
    "id": "iqEv_xLQXIoY"
   },
   "source": [
    "# Neural Network Model"
   ]
  },
  {
   "cell_type": "code",
   "execution_count": 7,
   "metadata": {
    "id": "uF4JVkjFUf2w"
   },
   "outputs": [],
   "source": [
    "model = models.Sequential()\n",
    "model.add(layers.Dense(1, input_shape=(2,), activation='sigmoid'))\n",
    "model.compile(loss='mean_squared_error', optimizer='adam', metrics=[metrics.categorical_accuracy])"
   ]
  },
  {
   "cell_type": "markdown",
   "metadata": {
    "id": "29RjWpfzXNPR"
   },
   "source": [
    "# Training"
   ]
  },
  {
   "cell_type": "code",
   "execution_count": 16,
   "metadata": {
    "colab": {
     "base_uri": "https://localhost:8080/"
    },
    "id": "fsjLKasQUkxN",
    "outputId": "4d836e54-c4b3-429e-a3b5-a0b6a7910aea"
   },
   "outputs": [
    {
     "name": "stdout",
     "output_type": "stream",
     "text": [
      "Epoch 1/32\n",
      "60/60 [==============================] - 0s 3ms/step - loss: 0.0908 - categorical_accuracy: 1.0000 - val_loss: 0.0888 - val_categorical_accuracy: 1.0000\n",
      "Epoch 2/32\n",
      "60/60 [==============================] - 0s 2ms/step - loss: 0.0891 - categorical_accuracy: 1.0000 - val_loss: 0.0871 - val_categorical_accuracy: 1.0000\n",
      "Epoch 3/32\n",
      "60/60 [==============================] - 0s 2ms/step - loss: 0.0874 - categorical_accuracy: 1.0000 - val_loss: 0.0855 - val_categorical_accuracy: 1.0000\n",
      "Epoch 4/32\n",
      "60/60 [==============================] - 0s 1ms/step - loss: 0.0858 - categorical_accuracy: 1.0000 - val_loss: 0.0838 - val_categorical_accuracy: 1.0000\n",
      "Epoch 5/32\n",
      "60/60 [==============================] - 0s 1ms/step - loss: 0.0842 - categorical_accuracy: 1.0000 - val_loss: 0.0823 - val_categorical_accuracy: 1.0000\n",
      "Epoch 6/32\n",
      "60/60 [==============================] - 0s 2ms/step - loss: 0.0826 - categorical_accuracy: 1.0000 - val_loss: 0.0807 - val_categorical_accuracy: 1.0000\n",
      "Epoch 7/32\n",
      "60/60 [==============================] - 0s 1ms/step - loss: 0.0810 - categorical_accuracy: 1.0000 - val_loss: 0.0792 - val_categorical_accuracy: 1.0000\n",
      "Epoch 8/32\n",
      "60/60 [==============================] - 0s 2ms/step - loss: 0.0795 - categorical_accuracy: 1.0000 - val_loss: 0.0777 - val_categorical_accuracy: 1.0000\n",
      "Epoch 9/32\n",
      "60/60 [==============================] - 0s 2ms/step - loss: 0.0781 - categorical_accuracy: 1.0000 - val_loss: 0.0763 - val_categorical_accuracy: 1.0000\n",
      "Epoch 10/32\n",
      "60/60 [==============================] - 0s 1ms/step - loss: 0.0766 - categorical_accuracy: 1.0000 - val_loss: 0.0749 - val_categorical_accuracy: 1.0000\n",
      "Epoch 11/32\n",
      "60/60 [==============================] - 0s 1ms/step - loss: 0.0752 - categorical_accuracy: 1.0000 - val_loss: 0.0735 - val_categorical_accuracy: 1.0000\n",
      "Epoch 12/32\n",
      "60/60 [==============================] - 0s 2ms/step - loss: 0.0738 - categorical_accuracy: 1.0000 - val_loss: 0.0721 - val_categorical_accuracy: 1.0000\n",
      "Epoch 13/32\n",
      "60/60 [==============================] - 0s 2ms/step - loss: 0.0725 - categorical_accuracy: 1.0000 - val_loss: 0.0708 - val_categorical_accuracy: 1.0000\n",
      "Epoch 14/32\n",
      "60/60 [==============================] - 0s 2ms/step - loss: 0.0711 - categorical_accuracy: 1.0000 - val_loss: 0.0695 - val_categorical_accuracy: 1.0000\n",
      "Epoch 15/32\n",
      "60/60 [==============================] - 0s 2ms/step - loss: 0.0698 - categorical_accuracy: 1.0000 - val_loss: 0.0682 - val_categorical_accuracy: 1.0000\n",
      "Epoch 16/32\n",
      "60/60 [==============================] - 0s 2ms/step - loss: 0.0685 - categorical_accuracy: 1.0000 - val_loss: 0.0669 - val_categorical_accuracy: 1.0000\n",
      "Epoch 17/32\n",
      "60/60 [==============================] - 0s 2ms/step - loss: 0.0673 - categorical_accuracy: 1.0000 - val_loss: 0.0657 - val_categorical_accuracy: 1.0000\n",
      "Epoch 18/32\n",
      "60/60 [==============================] - 0s 2ms/step - loss: 0.0660 - categorical_accuracy: 1.0000 - val_loss: 0.0645 - val_categorical_accuracy: 1.0000\n",
      "Epoch 19/32\n",
      "60/60 [==============================] - 0s 2ms/step - loss: 0.0648 - categorical_accuracy: 1.0000 - val_loss: 0.0633 - val_categorical_accuracy: 1.0000\n",
      "Epoch 20/32\n",
      "60/60 [==============================] - 0s 2ms/step - loss: 0.0636 - categorical_accuracy: 1.0000 - val_loss: 0.0622 - val_categorical_accuracy: 1.0000\n",
      "Epoch 21/32\n",
      "60/60 [==============================] - 0s 2ms/step - loss: 0.0625 - categorical_accuracy: 1.0000 - val_loss: 0.0610 - val_categorical_accuracy: 1.0000\n",
      "Epoch 22/32\n",
      "60/60 [==============================] - 0s 2ms/step - loss: 0.0613 - categorical_accuracy: 1.0000 - val_loss: 0.0599 - val_categorical_accuracy: 1.0000\n",
      "Epoch 23/32\n",
      "60/60 [==============================] - 0s 2ms/step - loss: 0.0602 - categorical_accuracy: 1.0000 - val_loss: 0.0588 - val_categorical_accuracy: 1.0000\n",
      "Epoch 24/32\n",
      "60/60 [==============================] - 0s 2ms/step - loss: 0.0591 - categorical_accuracy: 1.0000 - val_loss: 0.0577 - val_categorical_accuracy: 1.0000\n",
      "Epoch 25/32\n",
      "60/60 [==============================] - 0s 2ms/step - loss: 0.0580 - categorical_accuracy: 1.0000 - val_loss: 0.0566 - val_categorical_accuracy: 1.0000\n",
      "Epoch 26/32\n",
      "60/60 [==============================] - 0s 2ms/step - loss: 0.0570 - categorical_accuracy: 1.0000 - val_loss: 0.0556 - val_categorical_accuracy: 1.0000\n",
      "Epoch 27/32\n",
      "60/60 [==============================] - 0s 2ms/step - loss: 0.0559 - categorical_accuracy: 1.0000 - val_loss: 0.0546 - val_categorical_accuracy: 1.0000\n",
      "Epoch 28/32\n",
      "60/60 [==============================] - 0s 2ms/step - loss: 0.0549 - categorical_accuracy: 1.0000 - val_loss: 0.0536 - val_categorical_accuracy: 1.0000\n",
      "Epoch 29/32\n",
      "60/60 [==============================] - 0s 2ms/step - loss: 0.0539 - categorical_accuracy: 1.0000 - val_loss: 0.0526 - val_categorical_accuracy: 1.0000\n",
      "Epoch 30/32\n",
      "60/60 [==============================] - 0s 1ms/step - loss: 0.0529 - categorical_accuracy: 1.0000 - val_loss: 0.0516 - val_categorical_accuracy: 1.0000\n",
      "Epoch 31/32\n",
      "60/60 [==============================] - 0s 2ms/step - loss: 0.0519 - categorical_accuracy: 1.0000 - val_loss: 0.0507 - val_categorical_accuracy: 1.0000\n",
      "Epoch 32/32\n",
      "60/60 [==============================] - 0s 2ms/step - loss: 0.0509 - categorical_accuracy: 1.0000 - val_loss: 0.0497 - val_categorical_accuracy: 1.0000\n"
     ]
    }
   ],
   "source": [
    "result=history = model.fit(X_train, y_train, validation_split=(0.2), batch_size=100, epochs=32, verbose=1)"
   ]
  },
  {
   "cell_type": "markdown",
   "metadata": {
    "id": "iO33pUZUXPvy"
   },
   "source": [
    "# Evaluation"
   ]
  },
  {
   "cell_type": "code",
   "execution_count": 17,
   "metadata": {
    "colab": {
     "base_uri": "https://localhost:8080/"
    },
    "id": "2chLP2-xWM_p",
    "outputId": "e52c9bed-b4b5-4ad6-8464-35eee5fb56d6"
   },
   "outputs": [
    {
     "name": "stdout",
     "output_type": "stream",
     "text": [
      "79/79 [==============================] - 0s 1ms/step - loss: 0.0503 - categorical_accuracy: 1.0000\n"
     ]
    }
   ],
   "source": [
    "final=model.evaluate(X_test,y_test)"
   ]
  },
  {
   "cell_type": "code",
   "execution_count": 18,
   "metadata": {
    "colab": {
     "base_uri": "https://localhost:8080/"
    },
    "id": "lrxBG0ETWjJq",
    "outputId": "356c1f27-a3b2-4be8-a857-00850a1d153e"
   },
   "outputs": [
    {
     "data": {
      "text/plain": [
       "array([[0.]], dtype=float32)"
      ]
     },
     "execution_count": 18,
     "metadata": {
      "tags": []
     },
     "output_type": "execute_result"
    }
   ],
   "source": [
    "model.predict([[0,0]]).round()"
   ]
  },
  {
   "cell_type": "code",
   "execution_count": 19,
   "metadata": {
    "colab": {
     "base_uri": "https://localhost:8080/"
    },
    "id": "IXleyYeLWsJI",
    "outputId": "e5058096-3e26-4af6-bfb7-57831345b40e"
   },
   "outputs": [
    {
     "data": {
      "text/plain": [
       "array([[0.]], dtype=float32)"
      ]
     },
     "execution_count": 19,
     "metadata": {
      "tags": []
     },
     "output_type": "execute_result"
    }
   ],
   "source": [
    "model.predict([[0,1]]).round()"
   ]
  },
  {
   "cell_type": "code",
   "execution_count": 20,
   "metadata": {
    "colab": {
     "base_uri": "https://localhost:8080/"
    },
    "id": "Xw82KUNeWt_s",
    "outputId": "16245c0e-73a3-4bde-f78b-2428a2f5de69"
   },
   "outputs": [
    {
     "data": {
      "text/plain": [
       "array([[0.]], dtype=float32)"
      ]
     },
     "execution_count": 20,
     "metadata": {
      "tags": []
     },
     "output_type": "execute_result"
    }
   ],
   "source": [
    "model.predict([[1,0]]).round()"
   ]
  },
  {
   "cell_type": "code",
   "execution_count": 21,
   "metadata": {
    "colab": {
     "base_uri": "https://localhost:8080/"
    },
    "id": "fcAk_jaoWwCb",
    "outputId": "e07be63d-c9a8-49e6-b6fc-f236e4432837"
   },
   "outputs": [
    {
     "data": {
      "text/plain": [
       "array([[1.]], dtype=float32)"
      ]
     },
     "execution_count": 21,
     "metadata": {
      "tags": []
     },
     "output_type": "execute_result"
    }
   ],
   "source": [
    "model.predict([[1,1]]).round()"
   ]
  },
  {
   "cell_type": "markdown",
   "metadata": {
    "id": "yEppVHWTYyDu"
   },
   "source": [
    "## Results"
   ]
  },
  {
   "cell_type": "code",
   "execution_count": 24,
   "metadata": {
    "colab": {
     "base_uri": "https://localhost:8080/"
    },
    "id": "ac2WJooWX0gO",
    "outputId": "5d5468f4-09f1-436e-811d-cb08b128e69d"
   },
   "outputs": [
    {
     "name": "stdout",
     "output_type": "stream",
     "text": [
      "[[0.]\n",
      " [0.]\n",
      " [1.]\n",
      " ...\n",
      " [1.]\n",
      " [1.]\n",
      " [1.]]\n"
     ]
    }
   ],
   "source": [
    "y_pred=model.predict(X_test).round()\n",
    "print(y_pred)"
   ]
  },
  {
   "cell_type": "code",
   "execution_count": 29,
   "metadata": {
    "colab": {
     "base_uri": "https://localhost:8080/"
    },
    "id": "yN17l3bbX-yp",
    "outputId": "899294ca-c0fe-4424-e32f-9f3293c4e1f8"
   },
   "outputs": [
    {
     "name": "stdout",
     "output_type": "stream",
     "text": [
      "Accuracy: 1.000000\n",
      "Precision: 1.000000\n",
      "Recall: 1.000000\n",
      "F1 score: 1.000000\n"
     ]
    }
   ],
   "source": [
    "from sklearn.metrics import accuracy_score,precision_score,recall_score,f1_score\n",
    "# accuracy: (tp + tn) / (p + n)\n",
    "accuracy = accuracy_score(y_test, y_pred)\n",
    "print('Accuracy: %f' % accuracy)\n",
    "# precision tp / (tp + fp)\n",
    "precision = precision_score(y_test, y_pred)\n",
    "print('Precision: %f' % precision)\n",
    "# recall: tp / (tp + fn)\n",
    "recall = recall_score(y_test, y_pred)\n",
    "print('Recall: %f' % recall)\n",
    "# f1: 2 tp / (2 tp + fp + fn)\n",
    "f1 = f1_score(y_test, y_pred)\n",
    "print('F1 score: %f' % f1)"
   ]
  }
 ],
 "metadata": {
  "colab": {
   "collapsed_sections": [],
   "name": "AND_using_NN.ipynb",
   "provenance": []
  },
  "kernelspec": {
   "display_name": "Python 3",
   "language": "python",
   "name": "python3"
  },
  "language_info": {
   "codemirror_mode": {
    "name": "ipython",
    "version": 3
   },
   "file_extension": ".py",
   "mimetype": "text/x-python",
   "name": "python",
   "nbconvert_exporter": "python",
   "pygments_lexer": "ipython3",
   "version": "3.7.4"
  }
 },
 "nbformat": 4,
 "nbformat_minor": 1
}
